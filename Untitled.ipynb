{
 "cells": [
  {
   "cell_type": "code",
   "execution_count": 1,
   "metadata": {},
   "outputs": [
    {
     "name": "stdin",
     "output_type": "stream",
     "text": [
      "say. OS\n"
     ]
    },
    {
     "name": "stdout",
     "output_type": "stream",
     "text": [
      "OPERATING SYSTEM\n"
     ]
    }
   ],
   "source": [
    "DATA={\n",
    "\"ABACUS\": \"INVENTED BY CHINESE\",\n",
    "\"ADDING MACHINE\": \"INVENTED BY BLAISE PASCAL\",\n",
    "\"ANALYTICAL ENGINE\": \"INVENTED BY CHARLES BABBAGE\",\n",
    "\"LELBNIZ WHEEL\": \"DIGITAL MECHANICAL CALCULATOR\",\n",
    "\"TABULATING MACHINE\": \"INVENTED BY HERMAN HOLLERITH\",\n",
    "\"DIFFERENTIAL ANALYZER\": \"FIRST ELECTRONICS COMPUYER\",\n",
    "\"MOBILE DEVICES\": \"SMALL AND PORTABLES COMPUTER\",\n",
    "\"SUPERCOMPUTER\": \"MOST POWERFUL AND EXPENSIVE COMPUTER\",\n",
    "\"HYBRID COMPUTERS\": \"DIGITAL TECHNOLOGY\",\n",
    "\"CRACKER\": \"STEAL YOUR INFORMATION\",\n",
    "\"HACKER\": \"WARN YOU ABOUT THE MALICIOUS ACTIVITY GOING AROUND THE COMPUTER\",\n",
    "\"USER ERROR\": \"USER CAN MAKE MISTAKE OR ACCIDENTALLY DELETE FILES\",\n",
    "\"MULTITASKING\": \"MAIM ADVANTAGE OF COMPUTER\",\n",
    "\"ACCESSING DATA\": \"YOU CAN ACCESS DATA STORED ON YOUR COMPUTER\",\n",
    "\"RAM\": \"IS AN ELECTRONIC DEVICE\",\n",
    "\"HARD-DISK\": \"IS AN ELECTROMECHANICAL DEVICE\",\n",
    "\"MICRO COMPUTER\": \"KNOWN AS PERSONAL COMPUTERS\",\n",
    "\"VERSATILITY\": \"PERFORMING MORE THAN ONE TASK\",\n",
    "\"AI\": \"ARTIFICIAL INTELLIGENCE\",\n",
    "\"WORKSTATION\": \"THESE ARE HIGH PERFORMANCE COMPUTER THAT ARE USED BY PROFESSIONALS\", \n",
    "\"MAIN FRAMES\": \"LARGE AND VERY POWERFUL COMPUTERS WITH VERY HIGH MEMORY CAPACITY\",\n",
    "\"PERIPHERAL DEVICES\": \"USED FOR PERFORMING THE SPECIFIC FUNCTIONS AND ARE CONNECTED TO THE COMPUTER EXTERNALLY\",\n",
    "\"CPU\": \"CENTRAL PROCESSING UNIT\",\n",
    "\"ULSI\": \"ULTRA LARGE SCALE INTEGRATION\",\n",
    "\"ICS\": \"INTEGRATED CIRCUITS\",\n",
    "\"RUNNING PROGRAM\": \"YOU CAN RUN THE PROGRAM WHEN ALREADY LOGGED IN\",\n",
    "\"SAVING AND BACKING UP\": \"IT IS IMPORTANT TO SAVE AND BACK UP YOUR DATA REGULARLY TO AVOID DATA LOSS\",\n",
    "\"OS\": \"OPERATING SYSTEM\",\n",
    "\"PERSONAL COMPUTERS\": \" THESE ARE SMALL AND AFFORDABLE COMPUTERS THAT ARE DESIGNED FOR INDIVIDUAL USERS\",\n",
    "\"SOFTWARE GLITCHES\": \"SOFTWARE APPLICATIONS CAN SOMETIMES MALFUNCTION OR CRASH THAT LEADS TO DATA LOSS\",\n",
    "}\n",
    "\n",
    "    \n",
    "a = input(\"say.\")\n",
    "print(DATA[a])"
   ]
  },
  {
   "cell_type": "code",
   "execution_count": null,
   "metadata": {},
   "outputs": [],
   "source": []
  }
 ],
 "metadata": {
  "kernelspec": {
   "display_name": "Python 3 (ipykernel)",
   "language": "python",
   "name": "python3"
  },
  "language_info": {
   "codemirror_mode": {
    "name": "ipython",
    "version": 3
   },
   "file_extension": ".py",
   "mimetype": "text/x-python",
   "name": "python",
   "nbconvert_exporter": "python",
   "pygments_lexer": "ipython3",
   "version": "3.11.0"
  }
 },
 "nbformat": 4,
 "nbformat_minor": 4
}
